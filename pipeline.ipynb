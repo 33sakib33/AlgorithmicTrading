import pandas as pd
import glob
import os
import numpy as np
from sklearn.model_selection import train_test_split
from sklearn.neighbors import KNeighborsClassifier
from sklearn.metrics import accuracy_score
from sklearn.impute import SimpleImputer
from sklearn.neighbors import KNeighborsRegressor
path = 'train/daily' # use your path
fileList= os.listdir(path);


# for filename in fileList:
#     if ".csv" in filename:
#         df = pd.read_csv(path+'/'+filename, index_col=None, header=0)
# #         print(filename)
#         print(df)

# frame = pd.concat(li, axis=0, ignore_index=True)
df1=pd.read_csv(path+'/'+fileList[0],index_col=None);
df1.open.mean()
